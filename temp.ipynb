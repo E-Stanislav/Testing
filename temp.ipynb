{
 "cells": [
  {
   "cell_type": "code",
   "execution_count": 1,
   "metadata": {},
   "outputs": [],
   "source": [
    "import os"
   ]
  },
  {
   "cell_type": "code",
   "execution_count": 20,
   "metadata": {},
   "outputs": [
    {
     "name": "stdout",
     "output_type": "stream",
     "text": [
      "file_reader.py\n",
      "utils.py\n"
     ]
    },
    {
     "data": {
      "text/plain": [
       "[('my_funcs/file_reader.py',), ('my_funcs/utils.py',)]"
      ]
     },
     "execution_count": 20,
     "metadata": {},
     "output_type": "execute_result"
    }
   ],
   "source": [
    "arr_files = []\n",
    "for root, dirs, files in os.walk(\"my_funcs\"):  \n",
    "    if root == 'my_funcs':\n",
    "        for filename in files:\n",
    "            if filename.split('.')[1] == 'py':\n",
    "                tup = tuple([f'{root}/{filename}'])\n",
    "                arr_files.append(tup)\n",
    "                print(filename)\n",
    "arr_files"
   ]
  },
  {
   "cell_type": "code",
   "execution_count": 32,
   "metadata": {},
   "outputs": [
    {
     "data": {
      "text/plain": [
       "[('my_funcs', 'file_reader.py'), ('my_funcs', 'utils.py')]"
      ]
     },
     "execution_count": 32,
     "metadata": {},
     "output_type": "execute_result"
    }
   ],
   "source": [
    "import os\n",
    "\n",
    "def get_py_files(path):\n",
    "    py_files = []\n",
    "    for r, d, f in os.walk(path):\n",
    "        for file in f:\n",
    "            if ('.py' in file) and (r == 'my_funcs'):\n",
    "                \n",
    "                py_files.append((r, file))\n",
    "    return py_files\n",
    "\n",
    "files = get_py_files('my_funcs')\n",
    "files"
   ]
  },
  {
   "cell_type": "code",
   "execution_count": null,
   "metadata": {},
   "outputs": [],
   "source": []
  }
 ],
 "metadata": {
  "kernelspec": {
   "display_name": "base",
   "language": "python",
   "name": "python3"
  },
  "language_info": {
   "codemirror_mode": {
    "name": "ipython",
    "version": 3
   },
   "file_extension": ".py",
   "mimetype": "text/x-python",
   "name": "python",
   "nbconvert_exporter": "python",
   "pygments_lexer": "ipython3",
   "version": "3.9.13"
  },
  "orig_nbformat": 4,
  "vscode": {
   "interpreter": {
    "hash": "54f927fedd63a7afc514b512aecb59dbff3839e37b33b8d39a8dcc4cfec87d3e"
   }
  }
 },
 "nbformat": 4,
 "nbformat_minor": 2
}
